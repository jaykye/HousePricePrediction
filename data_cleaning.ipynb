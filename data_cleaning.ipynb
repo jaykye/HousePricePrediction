{
 "cells": [
  {
   "cell_type": "code",
   "execution_count": 1,
   "metadata": {},
   "outputs": [],
   "source": [
    "import pandas as pd\n",
    "import numpy as np\n",
    "import matplotlib.pyplot as plt\n",
    "pd.set_option('display.max_columns', 100)"
   ]
  },
  {
   "cell_type": "code",
   "execution_count": 2,
   "metadata": {},
   "outputs": [],
   "source": [
    "def label_columns(df, cols, label):\n",
    "    for col in cols:\n",
    "        df[col] = df[col].map(label).fillna(0).astype(int)"
   ]
  },
  {
   "cell_type": "markdown",
   "metadata": {},
   "source": [
    "## Need to Clean data.\n",
    "1. deal with null values. Are they actually missing or is it labeled as NA?\n",
    "2. Label the categorical values with order -- 주로 qualitative grade.\n",
    "2. Find worthy features to use in regression.\n",
    "3. Find colinearities and minimize them.\n"
   ]
  },
  {
   "cell_type": "code",
   "execution_count": 3,
   "metadata": {},
   "outputs": [],
   "source": [
    "train_df = pd.read_csv('rsc/train.csv')\n",
    "test_df = pd.read_csv('rsc/test.csv')"
   ]
  },
  {
   "cell_type": "markdown",
   "metadata": {},
   "source": [
    "couple rules to Think about. In real life situation, I have one dataset and I split the train and test sets. Here, I don't split them.\\\n",
    "Plus, I need to make results for all the test sets. I cannot drop them because of nan values. \\\n",
    "However, other processings are fair game.\\\n",
    "So, Drop what you don't like in the training set. That's fine. But don't drop from test sets.\\\n",
    "If you need to transform the data any way, you can do so on both train and test sets."
   ]
  },
  {
   "cell_type": "code",
   "execution_count": 4,
   "metadata": {},
   "outputs": [
    {
     "data": {
      "text/plain": [
       "Index(['LotFrontage', 'Alley', 'MasVnrType', 'MasVnrArea', 'BsmtQual',\n",
       "       'BsmtCond', 'BsmtExposure', 'BsmtFinType1', 'BsmtFinType2',\n",
       "       'Electrical', 'FireplaceQu', 'GarageType', 'GarageYrBlt',\n",
       "       'GarageFinish', 'GarageQual', 'GarageCond', 'PoolQC', 'Fence',\n",
       "       'MiscFeature'],\n",
       "      dtype='object')"
      ]
     },
     "execution_count": 4,
     "metadata": {},
     "output_type": "execute_result"
    }
   ],
   "source": [
    "# Columns with NaN. -- I can only work with training data.\n",
    "train_df.columns[train_df.isna().sum()>0]"
   ]
  },
  {
   "cell_type": "code",
   "execution_count": 5,
   "metadata": {},
   "outputs": [
    {
     "name": "stdout",
     "output_type": "stream",
     "text": [
      "(1460, 81) -> (1459, 81)\n"
     ]
    }
   ],
   "source": [
    "# Columns that should not include NaN -- dropthem but only on trainsets.\n",
    "missing_val = ['Electrical']\n",
    "print(train_df.shape, '->', train_df.dropna(subset=missing_val).shape)\n",
    "train_df.dropna(subset=missing_val, inplace=True)\n",
    "df= pd.concat([train_df, test_df]).reset_index(drop=True)"
   ]
  },
  {
   "cell_type": "code",
   "execution_count": 6,
   "metadata": {},
   "outputs": [],
   "source": [
    "# Columns with NA category\n",
    "na_cat = ['Alley', 'MasVnrType','GarageType', 'MiscFeature']\n",
    "for c in na_cat:\n",
    "    df[c] = df[c].fillna('NA')"
   ]
  },
  {
   "cell_type": "code",
   "execution_count": 7,
   "metadata": {},
   "outputs": [],
   "source": [
    "# Columns that NaN should be zero -- numeric\n",
    "zero_cat = ['LotFrontage', 'MasVnrArea', 'BsmtFinSF2','BsmtUnfSF', 'TotalBsmtSF', 'BsmtFullBath', 'BsmtHalfBath']\n",
    "for c in na_cat:\n",
    "    df[c] = df[c].fillna(0)"
   ]
  },
  {
   "cell_type": "code",
   "execution_count": 8,
   "metadata": {},
   "outputs": [],
   "source": [
    "# columns : labels -- int, qualitative\n",
    "grading_scheme =[\n",
    "    (['ExterQual', 'ExterCond', 'BsmtQual', 'BsmtCond', 'HeatingQC', 'KitchenQual', 'FireplaceQu', 'GarageQual', 'GarageCond', 'PoolQC'], {'Ex':5, 'Gd':4, 'TA':3, 'Fa':2,'Po':1, np.nan:0}),\n",
    "    (['BsmtExposure'], {'Gd':4, 'Av':3, 'Mn':2,'No':1, np.nan:0}),\n",
    "    (['BsmtFinType1', 'BsmtFinType2'], {'GLQ':6, 'ALQ':5, 'BLQ':4, 'Rec':3,'LwQ':2,'Unf':1, np.nan:0}),\n",
    "    (['Functional'], {'Typ':7, 'Min1':6, 'Min2':5, 'Mod':4,'Maj1':3,'Maj2':2, 'Sev':1, 'Sal':0}),\n",
    "    (['GarageFinish'], {'Fin':3, 'RFn':2,'Unf':1, np.nan:0}),\n",
    "    (['PavedDrive', 'CentralAir'], {'Y':2,'P':1,'N':0}),\n",
    "    (['Fence'], {'GdPrv':4, 'MnPrv':3, 'GdWo':2,'MnWw':1, np.nan:0})\n",
    "]\n",
    "for cols_to_label, label in grading_scheme:\n",
    "    label_columns(df, cols_to_label, label)"
   ]
  },
  {
   "cell_type": "code",
   "execution_count": null,
   "metadata": {},
   "outputs": [],
   "source": []
  }
 ],
 "metadata": {
  "kernelspec": {
   "display_name": "Python 3",
   "language": "python",
   "name": "python3"
  },
  "language_info": {
   "codemirror_mode": {
    "name": "ipython",
    "version": 3
   },
   "file_extension": ".py",
   "mimetype": "text/x-python",
   "name": "python",
   "nbconvert_exporter": "python",
   "pygments_lexer": "ipython3",
   "version": "3.8.0"
  }
 },
 "nbformat": 4,
 "nbformat_minor": 4
}
